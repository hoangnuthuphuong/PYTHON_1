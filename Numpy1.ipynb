{
  "nbformat": 4,
  "nbformat_minor": 0,
  "metadata": {
    "colab": {
      "name": "Numpy1",
      "private_outputs": true,
      "provenance": [],
      "authorship_tag": "ABX9TyMFE1O2Mo7cit9PQS7+7F1u",
      "include_colab_link": true
    },
    "kernelspec": {
      "name": "python3",
      "display_name": "Python 3"
    },
    "language_info": {
      "name": "python"
    }
  },
  "cells": [
    {
      "cell_type": "markdown",
      "metadata": {
        "id": "view-in-github",
        "colab_type": "text"
      },
      "source": [
        "<a href=\"https://colab.research.google.com/github/hoangnuthuphuong/PYTHON_1/blob/master/Numpy1.ipynb\" target=\"_parent\"><img src=\"https://colab.research.google.com/assets/colab-badge.svg\" alt=\"Open In Colab\"/></a>"
      ]
    },
    {
      "cell_type": "code",
      "source": [
        "import numpy as np"
      ],
      "metadata": {
        "id": "GDPl3k23Se3K"
      },
      "execution_count": null,
      "outputs": []
    },
    {
      "cell_type": "markdown",
      "source": [
        "#Bài 1: Xét không gian R3, một điểm A trong không gian này có tọa độ là (5, 7, 14). Hãy khởi tạo giá trị của điểm A nêu trên bằng Numpy."
      ],
      "metadata": {
        "id": "uZMaqs7PSVf-"
      }
    },
    {
      "cell_type": "code",
      "source": [
        "A = np.array([5,7,14])\n",
        "print(A)"
      ],
      "metadata": {
        "id": "f6Doi1GMSV_s"
      },
      "execution_count": null,
      "outputs": []
    },
    {
      "cell_type": "markdown",
      "source": [
        "#Bài 2: Mở rộng không gian lên R15, điểm A trong không gian này có tọa độ là (1, 2, 3, 4, 5, 6, 7, 8, 9, 10, 11, 12, 13, 14, 15). Hãy khởi tạo điểm A trong không gian 15 chiều này bằng Numpy."
      ],
      "metadata": {
        "id": "wlVuioL8SuuD"
      }
    },
    {
      "cell_type": "code",
      "execution_count": null,
      "metadata": {
        "id": "DuOtZoRHSGHL"
      },
      "outputs": [],
      "source": [
        "B = np.arange(1,16)\n",
        "print(B)\n"
      ]
    },
    {
      "cell_type": "markdown",
      "source": [
        "#Bài 3: Hãy viết chương trình sinh ngẫu nhiên một vector trong không gian Rn với n là số nguyên dương được nhập vào từ bàn phím."
      ],
      "metadata": {
        "id": "kUejpJopSVR-"
      }
    },
    {
      "cell_type": "code",
      "source": [
        "n = int(input(\"Nhập số chiều của không gian: \"))\n",
        "C = np.random.rand(1,n)\n",
        "print(C)"
      ],
      "metadata": {
        "id": "oGmL9YwqUIcK"
      },
      "execution_count": null,
      "outputs": []
    },
    {
      "cell_type": "markdown",
      "source": [
        "\n",
        "#Bài 4: Vecto OA = [ 7 −5 8 ] Hãy viết chương trình tính chiều dài của vector OA"
      ],
      "metadata": {
        "id": "XgkqMTO0VyLN"
      }
    },
    {
      "cell_type": "code",
      "source": [
        "D = np.array([7,-5,8])\n",
        "l= 0.5*( D[1]*D[1] + D[2]*D[2] + D[0]*D[0])\n",
        "print(\"Chiều dài của vector OA = \",l)\n",
        "#có thể dùng hàm np.linalg.norm()"
      ],
      "metadata": {
        "id": "SyNgIn_rUMlE"
      },
      "execution_count": null,
      "outputs": []
    },
    {
      "cell_type": "markdown",
      "source": [
        "#Bài 5\n"
      ],
      "metadata": {
        "id": "JnJAuPMha_0y"
      }
    },
    {
      "cell_type": "code",
      "source": [
        "A = np.random.rand(n)\n",
        "B = np.random.rand(n)\n",
        "AB=B-A\n",
        "print(\"vecto AB=\",AB)\n",
        "l= (0.5*(AB[0]*AB[0] + AB[1]*AB[1]))\n",
        "print(\"Chiều dài của vector AB=\",l)\n",
        "\n",
        "#có thể dùng np.linalg.norm(B-A)"
      ],
      "metadata": {
        "id": "lTR9gW4kXAKs"
      },
      "execution_count": null,
      "outputs": []
    },
    {
      "cell_type": "markdown",
      "source": [
        "#Bài 6"
      ],
      "metadata": {
        "id": "zVbm-5j71jCI"
      }
    },
    {
      "cell_type": "code",
      "source": [
        "n = int(input(\"Nhập vào số nguyên dương: \"))\n",
        "a = np.random.rand(n)\n",
        "b = np.random.rand(n)\n",
        "print(\"vector a\", a)\n",
        "print(\"vector b\", b)\n",
        "print(\"Tích vô hướng của 2 vector a,b: \",np.inner(a,b))"
      ],
      "metadata": {
        "id": "I45UHu63Z6P2"
      },
      "execution_count": null,
      "outputs": []
    },
    {
      "cell_type": "markdown",
      "source": [
        "#Bài 7"
      ],
      "metadata": {
        "id": "gX_JCm252BW2"
      }
    },
    {
      "cell_type": "code",
      "source": [
        "n = int(input(\"Nhập vào số nguyên dương: \"))\n",
        "a = np.random.rand(n)\n",
        "b = np.random.rand(n)\n",
        "print(\"vector a\", a)\n",
        "print(\"vector b\", b)\n",
        "print(\"Tích hữu hướng của hai vector a,b: \",np.cross(a,b))"
      ],
      "metadata": {
        "id": "YQErthIk2Px6"
      },
      "execution_count": null,
      "outputs": []
    },
    {
      "cell_type": "markdown",
      "source": [
        "#Bài 8"
      ],
      "metadata": {
        "id": "6CCbdlx229Kl"
      }
    },
    {
      "cell_type": "code",
      "source": [
        "n = int(input(\"Nhập vào số nguyên dương: \"))\n",
        "a = np.random.rand(1,n)\n",
        "print(\"Ma trận a\",a)\n",
        "print(\"Ma trận chuyển vị\",a.T)"
      ],
      "metadata": {
        "id": "LNk1C6jR2u5u"
      },
      "execution_count": null,
      "outputs": []
    },
    {
      "cell_type": "markdown",
      "source": [
        "#Bài 9"
      ],
      "metadata": {
        "id": "wouNDnsr3kIL"
      }
    },
    {
      "cell_type": "code",
      "source": [
        "a = [1,2,3,4,5]\n",
        "b = [[1],[2],[3],[4],[5]]\n",
        "print (\"a: \",a)\n",
        "print (\"b: \",b)\n",
        "a = np.array([1,2,3,4,5])\n",
        "b = np.array([[1],[2],[3],[4],[5]])\n",
        "print (\"vector a: \",a)\n",
        "print (\"vector b: \",b)\n",
        "print(\"Chuyển vị vector a: \",a.T)\n",
        "print (\"Chuyển vị vector b: \",b.T)"
      ],
      "metadata": {
        "id": "7GiOrSdJ3Goi"
      },
      "execution_count": null,
      "outputs": []
    },
    {
      "cell_type": "markdown",
      "source": [
        "#Bài 10"
      ],
      "metadata": {
        "id": "Eda_EhFW3-Ap"
      }
    },
    {
      "cell_type": "code",
      "source": [
        "n = int(input(\"Nhập vào số nguyên dương: \"))\n",
        "a = np.random.rand(n)\n",
        "b = np.random.rand(n)\n",
        "m = int(input(\"Nhập số m bất kì: \"))\n",
        "print(\"Phép nhân vector a với m: \",m*a)\n",
        "print(\"Cộng 2 vector a và b: \",a+b)"
      ],
      "metadata": {
        "id": "mAzelO5M4Bbm"
      },
      "execution_count": null,
      "outputs": []
    }
  ]
}